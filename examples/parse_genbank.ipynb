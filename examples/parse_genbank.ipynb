{
  "nbformat": 4,
  "nbformat_minor": 0,
  "metadata": {
    "colab": {
      "provenance": [],
      "authorship_tag": "ABX9TyNMWNFnKajuCncoJoFxgHui",
      "include_colab_link": true
    },
    "kernelspec": {
      "name": "python3",
      "display_name": "Python 3"
    },
    "language_info": {
      "name": "python"
    }
  },
  "cells": [
    {
      "cell_type": "markdown",
      "metadata": {
        "id": "view-in-github",
        "colab_type": "text"
      },
      "source": [
        "<a href=\"https://colab.research.google.com/github/pachterlab/seqspec/blob/main/examples/parse_genbank.ipynb\" target=\"_parent\"><img src=\"https://colab.research.google.com/assets/colab-badge.svg\" alt=\"Open In Colab\"/></a>"
      ]
    },
    {
      "cell_type": "code",
      "source": [
        "!pip --quiet install seqspec biopython"
      ],
      "metadata": {
        "id": "RhUJkFixEzIe",
        "colab": {
          "base_uri": "https://localhost:8080/"
        },
        "outputId": "8b19d4f4-31b0-494c-d3b7-699afb77dd56"
      },
      "execution_count": 1,
      "outputs": [
        {
          "output_type": "stream",
          "name": "stdout",
          "text": [
            "\u001b[2K     \u001b[90m━━━━━━━━━━━━━━━━━━━━━━━━━━━━━━━━━━━━━━━━\u001b[0m \u001b[32m3.1/3.1 MB\u001b[0m \u001b[31m12.4 MB/s\u001b[0m eta \u001b[36m0:00:00\u001b[0m\n",
            "\u001b[?25h"
          ]
        }
      ]
    },
    {
      "cell_type": "code",
      "source": [
        "import pandas as pd\n",
        "import matplotlib.pyplot as plt\n",
        "import numpy as np\n",
        "import matplotlib\n",
        "import json\n",
        "def nd(arr):\n",
        "    return np.asarray(arr).reshape(-1)\n",
        "\n",
        "\n",
        "def yex(ax):\n",
        "    lims = [\n",
        "        np.min([ax.get_xlim(), ax.get_ylim()]),  # min of both axes\n",
        "        np.max([ax.get_xlim(), ax.get_ylim()]),  # max of both axes\n",
        "    ]\n",
        "\n",
        "    # now plot both limits against eachother\n",
        "    ax.plot(lims, lims, \"k-\", alpha=0.75, zorder=0)\n",
        "    ax.set_aspect(\"equal\")\n",
        "    ax.set_xlim(lims)\n",
        "    ax.set_ylim(lims)\n",
        "    return ax\n",
        "\n",
        "\n",
        "fsize = 20\n",
        "matplotlib.rcParams[\"mathtext.fontset\"] = \"cm\"\n",
        "matplotlib.rcParams[\"font.family\"] = \"STIXGeneral\"\n",
        "matplotlib.rcParams[\"font.size\"] = fsize\n",
        "%config InlineBackend.figure_format = 'retina'"
      ],
      "metadata": {
        "id": "L7Ownf2hGKh2"
      },
      "execution_count": 2,
      "outputs": []
    },
    {
      "cell_type": "code",
      "source": [
        "gb = \"\"\"LOCUS       Exported                7203 bp ds-DNA     circular SYN 12-MAY-2021\n",
        "DEFINITION  Expresses Cre recombinase and Renilla luciferase from the EFS\n",
        "            promoter and three U6-driven sgRNAs targeting Kras, p53, and Lkb1.\n",
        "            Contains KrasG12D HDR donor. AAV backbone..\n",
        "ACCESSION   .\n",
        "VERSION     .\n",
        "KEYWORDS\n",
        "                AAV:ITR-U6-sgRNA(Kras)-U6-sgRNA(p53)-U6-sgRNA(Lkb1)-pEFS-...\n",
        "SOURCE      synthetic DNA construct\n",
        "  ORGANISM  synthetic DNA construct\n",
        "REFERENCE   1  (bases 1 to 7203)\n",
        "  AUTHORS   Platt RJ, Chen S, Zhou Y, Yim MJ, Swiech L, Kempton HR, Dahlman JE,\n",
        "            Parnas O, Eisenhaure TM, Jovanovic M, Graham DB, Jhunjhunwala S,\n",
        "            Heidenreich M, Xavier RJ, Langer R, Anderson DG, Hacohen N, Regev A,\n",
        "            Feng G, Sharp PA, Zhang F\n",
        "  TITLE     CRISPR-Cas9 Knockin Mice for Genome Editing and Cancer Modeling.\n",
        "  JOURNAL   Cell. 2014 Sep 24. pii: S0092-8674(14)01163-5. doi:\n",
        "            10.1016/j.cell.2014.09.014.\n",
        "  PUBMED    25263330\n",
        "REFERENCE   2  (bases 1 to 7203)\n",
        "  AUTHORS   .\n",
        "  TITLE     Direct Submission\n",
        "  JOURNAL   Exported May 12, 2021 from SnapGene Server 1.1.58\n",
        "            http://www.snapgene.com\n",
        "FEATURES             Location/Qualifiers\n",
        "     source          1..7203\n",
        "                     /organism=\"synthetic DNA construct\"\n",
        "                     /mol_type=\"other DNA\"\n",
        "     repeat_region   1..141\n",
        "                     /label=AAV2 ITR\n",
        "                     /note=\"inverted terminal repeat of adeno-associated virus\n",
        "                     serotype 2\"\n",
        "     repeat_region   12..141\n",
        "                     /label=AAV2 ITR\n",
        "     promoter        156..396\n",
        "                     /label=U6 promoter\n",
        "                     /note=\"RNA polymerase III promoter for human U6 snRNA\"\n",
        "     misc_RNA        425..500\n",
        "                     /label=gRNA scaffold\n",
        "                     /note=\"guide RNA scaffold for the Streptococcus pyogenes\n",
        "                     CRISPR/Cas9 system\"\n",
        "     promoter        513..753\n",
        "                     /label=U6 promoter\n",
        "                     /note=\"RNA polymerase III promoter for human U6 snRNA\"\n",
        "     misc_RNA        782..857\n",
        "                     /label=gRNA scaffold\n",
        "                     /note=\"guide RNA scaffold for the Streptococcus pyogenes\n",
        "                     CRISPR/Cas9 system\"\n",
        "     promoter        871..1111\n",
        "                     /label=U6 promoter\n",
        "                     /note=\"RNA polymerase III promoter for human U6 snRNA\"\n",
        "     misc_RNA        1140..1215\n",
        "                     /label=gRNA scaffold\n",
        "                     /note=\"guide RNA scaffold for the Streptococcus pyogenes\n",
        "                     CRISPR/Cas9 system\"\n",
        "     promoter        1270..1481\n",
        "                     /label=EF-1-alpha core promoter\n",
        "                     /note=\"core promoter for human elongation factor\n",
        "                     EF-1-alpha\"\n",
        "     CDS             1495..2427\n",
        "                     /codon_start=1\n",
        "                     /product=\"luciferase from the anthozoan coelenterate\n",
        "                     Renilla reniformis (sea pansy)\"\n",
        "                     /label=Rluc\n",
        "                     /translation=\"MTSKVYDPEQRKRMITGPQWWARCKQMNVLDSFINYYDSEKHAEN\n",
        "                     AVIFLHGNAASSYLWRHVVPHIEPVARCIIPDLIGMGKSGKSGNGSYRLLDHYKYLTAW\n",
        "                     FELLNLPKKIIFVGHDWGACLAFHYSYEHQDKIKAIVHAESVVDVIESWDEWPDIEEDI\n",
        "                     ALIKSEEGEKMVLENNFFVETMLPSKIMRKLEPEEFAAYLEPFKEKGEVRRPTLSWPRE\n",
        "                     IPLVKGGKPDVVQIVRNYNAYLRASDDLPKMFIESDPGFFSNAIVEGAKKFPNTEFVKV\n",
        "                     KGLHFSQEDAPDEMGKYIKSFVERVLKNEQ\"\n",
        "     CDS             2443..2499\n",
        "                     /codon_start=1\n",
        "                     /product=\"2A peptide from porcine teschovirus-1\n",
        "                     polyprotein\"\n",
        "                     /label=P2A\n",
        "                     /note=\"Eukaryotic ribosomes fail to insert a peptide bond\n",
        "                     between the Gly and Pro residues, yielding separate\n",
        "                     polypeptides.\"\n",
        "                     /translation=\"ATNFSLLKQAGDVEENPGP\"\n",
        "     CDS             2500..2520\n",
        "                     /codon_start=1\n",
        "                     /product=\"nuclear localization signal of SV40 (simian virus\n",
        "                     40) large T antigen\"\n",
        "                     /label=SV40 NLS\n",
        "                     /translation=\"PKKKRKV\"\n",
        "     CDS             3547..3573\n",
        "                     /codon_start=1\n",
        "                     /product=\"HA (human influenza hemagglutinin) epitope tag\"\n",
        "                     /label=HA\n",
        "                     /translation=\"YPYDVPDYA\"\n",
        "     repeat_region   4466..4606\n",
        "                     /label=AAV2 ITR\n",
        "                     /note=\"inverted terminal repeat of adeno-associated virus\n",
        "                     serotype 2\"\n",
        "     repeat_region   4466..4595\n",
        "                     /label=AAV2 ITR\n",
        "     rep_origin      4681..5136\n",
        "                     /direction=RIGHT\n",
        "                     /label=f1 ori\n",
        "                     /note=\"f1 bacteriophage origin of replication; arrow\n",
        "                     indicates direction of (+) strand synthesis\"\n",
        "     primer_bind     complement(4768..4787)\n",
        "                     /label=F1ori-R\n",
        "                     /note=\"F1 origin, reverse primer\"\n",
        "     primer_bind     4978..4999\n",
        "                     /label=F1ori-F\n",
        "                     /note=\"F1 origin, forward primer\"\n",
        "     primer_bind     complement(5153..5172)\n",
        "                     /label=pRS-marker\n",
        "                     /note=\"pRS vectors, use to sequence yeast selectable\n",
        "                     marker\"\n",
        "     primer_bind     5272..5294\n",
        "                     /label=pGEX 3'\n",
        "                     /note=\"pGEX vectors, reverse primer\"\n",
        "     primer_bind     complement(5332..5350)\n",
        "                     /label=pBRforEco\n",
        "                     /note=\"pBR322 vectors, upsteam of EcoRI site, forward\n",
        "                     primer\"\n",
        "     promoter        5418..5522\n",
        "                     /gene=\"bla\"\n",
        "                     /label=AmpR promoter\n",
        "     CDS             5523..6383\n",
        "                     /codon_start=1\n",
        "                     /gene=\"bla\"\n",
        "                     /product=\"beta-lactamase\"\n",
        "                     /label=AmpR\n",
        "                     /note=\"confers resistance to ampicillin, carbenicillin, and\n",
        "                     related antibiotics\"\n",
        "                     /translation=\"MSIQHFRVALIPFFAAFCLPVFAHPETLVKVKDAEDQLGARVGYI\n",
        "                     ELDLNSGKILESFRPEERFPMMSTFKVLLCGAVLSRIDAGQEQLGRRIHYSQNDLVEYS\n",
        "                     PVTEKHLTDGMTVRELCSAAITMSDNTAANLLLTTIGGPKELTAFLHNMGDHVTRLDRW\n",
        "                     EPELNEAIPNDERDTTMPVAMATTLRKLLTGELLTLASRQQLIDWMEADKVAGPLLRSA\n",
        "                     LPAGWFIADKSGAGERGSRGIIAALGPDGKPSRIVVIYTTGSQATMDERNRQIAEIGAS\n",
        "                     LIKHW\"\n",
        "     primer_bind     complement(5741..5760)\n",
        "                     /label=Amp-R\n",
        "                     /note=\"Ampicillin resistance gene, reverse primer\"\n",
        "     rep_origin      6554..7142\n",
        "                     /direction=RIGHT\n",
        "                     /label=ori\n",
        "                     /note=\"high-copy-number ColE1/pMB1/pBR322/pUC origin of\n",
        "                     replication\"\n",
        "     primer_bind     7043..7062\n",
        "                     /label=pBR322ori-F\n",
        "                     /note=\"pBR322 origin, forward primer\"\n",
        "ORIGIN\n",
        "        1 cctgcaggca gctgcgcgct cgctcgctca ctgaggccgc ccgggcaaag cccgggcgtc\n",
        "       61 gggcgacctt tggtcgcccg gcctcagtga gcgagcgagc gcgcagagag ggagtggcca\n",
        "      121 actccatcac taggggttcc tgcggccgca cgcgtgaggg cctatttccc atgattcctt\n",
        "      181 catatttgca tatacgatac aaggctgtta gagagataat tggaattaat ttgactgtaa\n",
        "      241 acacaaagat attagtacaa aatacgtgac gtagaaagta ataatttctt gggtagtttg\n",
        "      301 cagttttaaa attatgtttt aaaatggact atcatatgct taccgtaact tgaaagtatt\n",
        "      361 tcgatttctt ggctttatat atcttgtgga aaggacgaaa caccgcagcg ttacctctat\n",
        "      421 cgtagtttta gagctagaaa tagcaagtta aaataaggct agtccgttat caacttgaaa\n",
        "      481 aagtggcacc gagtcggtgc ttttttggat ccgagggcct atttcccatg attccttcat\n",
        "      541 atttgcatat acgatacaag gctgttagag agataattgg aattaatttg actgtaaaca\n",
        "      601 caaagatatt agtacaaaat acgtgacgta gaaagtaata atttcttggg tagtttgcag\n",
        "      661 ttttaaaatt atgttttaaa atggactatc atatgcttac cgtaacttga aagtatttcg\n",
        "      721 atttcttggc tttatatatc ttgtggaaag gacgaaacac cgtgtaatag ctcctgcatg\n",
        "      781 ggttttagag ctagaaatag caagttaaaa taaggctagt ccgttatcaa cttgaaaaag\n",
        "      841 tggcaccgag tcggtgcttt ttttctagaa gagggcctat ttcccatgat tccttcatat\n",
        "      901 ttgcatatac gatacaaggc tgttagagag ataattggaa ttaatttgac tgtaaacaca\n",
        "      961 aagatattag tacaaaatac gtgacgtaga aagtaataat ttcttgggta gtttgcagtt\n",
        "     1021 ttaaaattat gttttaaaat ggactatcat atgcttaccg taacttgaaa gtatttcgat\n",
        "     1081 ttcttggctt tatatatctt gtggaaagga cgaaacacca ctccgagacc ttatgccgcg\n",
        "     1141 ttttagagct agaaatagca agttaaaata aggctagtcc gttatcaact tgaaaaagtg\n",
        "     1201 gcaccgagtc ggtgcttttt tggtaccagg tcttgaaagg agtgggaatt ggctccggtg\n",
        "     1261 cccgtcagtg ggcagagcgc acatcgccca cagtccccga gaagttgggg ggaggggtcg\n",
        "     1321 gcaattgaac cggtgcctag agaaggtggc gcggggtaaa ctgggaaagt gatgtcgtgt\n",
        "     1381 actggctccg cctttttccc gagggtgggg gagaaccgta tataagtgca gtagtcgccg\n",
        "     1441 tgaacgttct ttttcgcaac gggtttgccg ccagaacaca ggcgtacggc caccatgact\n",
        "     1501 tcgaaagttt atgatccaga acaaaggaaa cggatgataa ctggtccgca gtggtgggcc\n",
        "     1561 agatgtaaac aaatgaatgt tcttgattca tttattaatt attatgattc agaaaaacat\n",
        "     1621 gcagaaaatg ctgttatttt tttacatggt aacgcggcct cttcttattt atggcgacat\n",
        "     1681 gttgtgccac atattgagcc agtagcgcgg tgtattatac cagaccttat tggtatgggc\n",
        "     1741 aaatcaggca aatctggtaa tggttcttat aggttacttg atcattacaa atatcttact\n",
        "     1801 gcatggtttg aacttcttaa tttaccaaag aagatcattt ttgtcggcca tgattggggt\n",
        "     1861 gcttgtttgg catttcatta tagctatgag catcaagata agatcaaagc aatagttcac\n",
        "     1921 gctgaaagtg tagtagatgt gattgaatca tgggatgaat ggcctgatat tgaagaagat\n",
        "     1981 attgcgttga tcaaatctga agaaggagaa aaaatggttt tggagaataa cttcttcgtg\n",
        "     2041 gaaaccatgt tgccatcaaa aatcatgaga aagttagaac cagaagaatt tgcagcatat\n",
        "     2101 cttgaaccat tcaaagagaa aggtgaagtt cgtcgtccaa cattatcatg gcctcgtgaa\n",
        "     2161 atcccgttag taaaaggtgg taaacctgac gttgtacaaa ttgttaggaa ttataatgct\n",
        "     2221 tatctacgtg caagtgatga tttaccaaaa atgtttattg aatcggaccc aggattcttt\n",
        "     2281 tccaatgcta ttgttgaagg tgccaagaag tttcctaata ctgaatttgt caaagtaaaa\n",
        "     2341 ggtcttcatt tttcgcaaga agatgcacct gatgaaatgg gaaaatatat caaatcgttc\n",
        "     2401 gttgagcgag ttctcaaaaa tgaacaagct agcggaagcg gagccactaa cttctccctg\n",
        "     2461 ttgaaacaag caggggatgt cgaagagaat cccgggccac ccaagaagaa gaggaaggtg\n",
        "     2521 tccaatctcc tgactgttca ccagaacctc cctgcgctgc cagtagatgc cactagcgat\n",
        "     2581 gaggtcagga aaaatctcat ggatatgttt agggatagac aggcgttttc tgaacacacc\n",
        "     2641 tggaaaatgc tgcttagcgt gtgccgatcc tgggcagcct ggtgtaagct gaacaatcgc\n",
        "     2701 aaatggttcc ccgccgagcc ggaggacgtg cgcgattacc tgctgtatct ccaggcaaga\n",
        "     2761 gggctggctg tcaagactat ccagcagcac ttgggccaac tgaatatgct gcatcgacgc\n",
        "     2821 agcgggctcc cccggcctag cgattcaaac gcagtctccc ttgttatgag gagaattaga\n",
        "     2881 aaggaaaacg tagatgcggg tgagagggct aagcaggctc tcgcttttga gcggactgat\n",
        "     2941 ttcgaccagg tcagatccct gatggagaac agcgatcggt gccaggacat caggaacctc\n",
        "     3001 gcatttctgg gaattgcata taacacactt ctgcgcatag ctgagatcgc ccggatcaga\n",
        "     3061 gtgaaagaca tcagtcgaac ggacggcggc cggatgctta ttcatattgg acgcacaaag\n",
        "     3121 acattggtca gcaccgctgg cgttgaaaag gccttgtccc tgggcgtaac gaagctggtg\n",
        "     3181 gaaagatgga tctcagtgtc cggcgtggct gacgacccta ataattactt gttctgtcga\n",
        "     3241 gtgagaaaaa acggagtcgc cgcgccctct gccaccagcc aattgagtac acgggccctt\n",
        "     3301 gaagggatct ttgaggcaac ccaccgactc atatacggag ccaaggatga cagtggccag\n",
        "     3361 aggtatctcg cctggtcagg tcattctgct agggtggggg ccgcacgaga catggcgcgg\n",
        "     3421 gcaggagtct ccataccaga gattatgcaa gctggaggtt ggacaaatgt gaacatcgtt\n",
        "     3481 atgaactata tccgcaatct tgactctgaa accggggcca tggtgagact gctcgaagat\n",
        "     3541 ggtgactacc catacgatgt tccagattac gcttaaagcg ctaataaaag atctttattt\n",
        "     3601 tcattagatc tgtgtgttgg ttttttgtgt aagctttggc tccaacacag atgttcttag\n",
        "     3661 gctacctaac ttctaacttt taatatccag tcaacaaaga ataccgcaag ggtaggtgtt\n",
        "     3721 gggatagctg tcgacaagct catgcgggtg tgtccacagg gtatagcgta ctatgcagaa\n",
        "     3781 tatttgtact gagtgaagtc atgatacatt cctttgagag ccattagctg ctacaaaaca\n",
        "     3841 gtaatctggc tgtttagatc aacaagctaa atgatagaag atgaaagtac tggtttccat\n",
        "     3901 gtatttttat taagtgttga tgagaaagtt gtaagtgact tacaggttac tctgtacatc\n",
        "     3961 tgtagtcact gaattcggaa tatcttagag ttttacacac aaaggtgagt gttaaaatat\n",
        "     4021 tgataaagtt tttgataatc ttgtgtgaga catgttctaa tttagttgta ttttattatt\n",
        "     4081 tttattgtaa ggcctgctga aaatgactga gtataaactt gtggtcgtgg gcgccgacgg\n",
        "     4141 cgtgggcaag agcgctttga cgatacagct aattcagaat cactttgtgg atgagtatga\n",
        "     4201 tccaaccatc gaggtaacgc tgctctacag tctgcgtgcg cttgtaaagg acggcagcca\n",
        "     4261 gccgctttga aaaagatatc atttttatat ttattagaaa attatattga aagttatttc\n",
        "     4321 agttatatgt gatgtccttt agttccaagg ctttaaactg ggtgttaggg aaccataggt\n",
        "     4381 gcaagaaagt ccacttctca tgagagctca ccacagagaa agaaagtcca cttctcaggt\n",
        "     4441 aaccacgtgc ggaccgagcg gccgcaggaa cccctagtga tggagttggc cactccctct\n",
        "     4501 ctgcgcgctc gctcgctcac tgaggccggg cgaccaaagg tcgcccgacg cccgggcttt\n",
        "     4561 gcccgggcgg cctcagtgag cgagcgagcg cgcagctgcc tgcaggggcg cctgatgcgg\n",
        "     4621 tattttctcc ttacgcatct gtgcggtatt tcacaccgca tacgtcaaag caaccatagt\n",
        "     4681 acgcgccctg tagcggcgca ttaagcgcgg cgggtgtggt ggttacgcgc agcgtgaccg\n",
        "     4741 ctacacttgc cagcgcccta gcgcccgctc ctttcgcttt cttcccttcc tttctcgcca\n",
        "     4801 cgttcgccgg ctttccccgt caagctctaa atcgggggct ccctttaggg ttccgattta\n",
        "     4861 gtgctttacg gcacctcgac cccaaaaaac ttgatttggg tgatggttca cgtagtgggc\n",
        "     4921 catcgccctg atagacggtt tttcgccctt tgacgttgga gtccacgttc tttaatagtg\n",
        "     4981 gactcttgtt ccaaactgga acaacactca accctatctc gggctattct tttgatttat\n",
        "     5041 aagggatttt gccgatttcg gcctattggt taaaaaatga gctgatttaa caaaaattta\n",
        "     5101 acgcgaattt taacaaaata ttaacgttta caattttatg gtgcactctc agtacaatct\n",
        "     5161 gctctgatgc cgcatagtta agccagcccc gacacccgcc aacacccgct gacgcgccct\n",
        "     5221 gacgggcttg tctgctcccg gcatccgctt acagacaagc tgtgaccgtc tccgggagct\n",
        "     5281 gcatgtgtca gaggttttca ccgtcatcac cgaaacgcgc gagacgaaag ggcctcgtga\n",
        "     5341 tacgcctatt tttataggtt aatgtcatga taataatggt ttcttagacg tcaggtggca\n",
        "     5401 cttttcgggg aaatgtgcgc ggaaccccta tttgtttatt tttctaaata cattcaaata\n",
        "     5461 tgtatccgct catgagacaa taaccctgat aaatgcttca ataatattga aaaaggaaga\n",
        "     5521 gtatgagtat tcaacatttc cgtgtcgccc ttattccctt ttttgcggca ttttgccttc\n",
        "     5581 ctgtttttgc tcacccagaa acgctggtga aagtaaaaga tgctgaagat cagttgggtg\n",
        "     5641 cacgagtggg ttacatcgaa ctggatctca acagcggtaa gatccttgag agttttcgcc\n",
        "     5701 ccgaagaacg ttttccaatg atgagcactt ttaaagttct gctatgtggc gcggtattat\n",
        "     5761 cccgtattga cgccgggcaa gagcaactcg gtcgccgcat acactattct cagaatgact\n",
        "     5821 tggttgagta ctcaccagtc acagaaaagc atcttacgga tggcatgaca gtaagagaat\n",
        "     5881 tatgcagtgc tgccataacc atgagtgata acactgcggc caacttactt ctgacaacga\n",
        "     5941 tcggaggacc gaaggagcta accgcttttt tgcacaacat gggggatcat gtaactcgcc\n",
        "     6001 ttgatcgttg ggaaccggag ctgaatgaag ccataccaaa cgacgagcgt gacaccacga\n",
        "     6061 tgcctgtagc aatggcaaca acgttgcgca aactattaac tggcgaacta cttactctag\n",
        "     6121 cttcccggca acaattaata gactggatgg aggcggataa agttgcagga ccacttctgc\n",
        "     6181 gctcggccct tccggctggc tggtttattg ctgataaatc tggagccggt gagcgtgggt\n",
        "     6241 ctcgcggtat cattgcagca ctggggccag atggtaagcc ctcccgtatc gtagttatct\n",
        "     6301 acacgacggg gagtcaggca actatggatg aacgaaatag acagatcgct gagataggtg\n",
        "     6361 cctcactgat taagcattgg taactgtcag accaagttta ctcatatata ctttagattg\n",
        "     6421 atttaaaact tcatttttaa tttaaaagga tctaggtgaa gatccttttt gataatctca\n",
        "     6481 tgaccaaaat cccttaacgt gagttttcgt tccactgagc gtcagacccc gtagaaaaga\n",
        "     6541 tcaaaggatc ttcttgagat cctttttttc tgcgcgtaat ctgctgcttg caaacaaaaa\n",
        "     6601 aaccaccgct accagcggtg gtttgtttgc cggatcaaga gctaccaact ctttttccga\n",
        "     6661 aggtaactgg cttcagcaga gcgcagatac caaatactgt ccttctagtg tagccgtagt\n",
        "     6721 taggccacca cttcaagaac tctgtagcac cgcctacata cctcgctctg ctaatcctgt\n",
        "     6781 taccagtggc tgctgccagt ggcgataagt cgtgtcttac cgggttggac tcaagacgat\n",
        "     6841 agttaccgga taaggcgcag cggtcgggct gaacgggggg ttcgtgcaca cagcccagct\n",
        "     6901 tggagcgaac gacctacacc gaactgagat acctacagcg tgagctatga gaaagcgcca\n",
        "     6961 cgcttcccga agggagaaag gcggacaggt atccggtaag cggcagggtc ggaacaggag\n",
        "     7021 agcgcacgag ggagcttcca gggggaaacg cctggtatct ttatagtcct gtcgggtttc\n",
        "     7081 gccacctctg acttgagcgt cgatttttgt gatgctcgtc aggggggcgg agcctatgga\n",
        "     7141 aaaacgccag caacgcggcc tttttacggt tcctggcctt ttgctggcct tttgctcaca\n",
        "     7201 tgt\n",
        "//\n",
        "\"\"\"\n",
        "with open(\"addgene-plasmid-60224-sequence-96390.gbk\", 'w') as f:\n",
        "  f.write(gb)"
      ],
      "metadata": {
        "id": "ExK1skHFnVC6"
      },
      "execution_count": 3,
      "outputs": []
    },
    {
      "cell_type": "code",
      "source": [
        "from Bio import GenBank\n",
        "with open(\"addgene-plasmid-60224-sequence-96390.gbk\", 'r') as f:\n",
        "  gb = GenBank.read(f)"
      ],
      "metadata": {
        "id": "iQOTap09Mcv1"
      },
      "execution_count": 4,
      "outputs": []
    },
    {
      "cell_type": "code",
      "source": [
        "feat = []\n",
        "prev_stop = 0\n",
        "need_filler = False\n",
        "label = \"source\"\n",
        "idx = 0\n",
        "for f in gb.features:\n",
        "  # print(f.__dict__)\n",
        "  # print(f.qualifiers)\n",
        "  id = f.key\n",
        "\n",
        "  if \"complement\" in f.location:\n",
        "    start, stop = tuple(map(int, f.location[11:-1].split(\"..\")))\n",
        "    # convert to 0-index\n",
        "    start -= 1\n",
        "  else:\n",
        "    start, stop = tuple(map(int, f.location.split(\"..\")))\n",
        "    start -= 1\n",
        "  length = stop - start\n",
        "  seq = gb.sequence[start: stop]\n",
        "\n",
        "  # check if the difference between the prev stop and the curr stop > 1, that seq is filler\n",
        "  if start - prev_stop > 1:\n",
        "    # get the seq and make a filler dude\n",
        "    need_filler = True\n",
        "    filler = {\n",
        "        \"seq\": gb.sequence[prev_stop : start],\n",
        "        \"id\": f\"filler_{idx}\",\n",
        "        \"label\": f\"filler_{idx}\",\n",
        "        \"start\": prev_stop,\n",
        "        \"stop\": start,\n",
        "        \"length\": start - prev_stop,\n",
        "    }\n",
        "    idx += 1\n",
        "\n",
        "  for q in f.qualifiers:\n",
        "    if q.key == '/label=':\n",
        "      label = q.value\n",
        "      break\n",
        "  if need_filler:\n",
        "    need_filler = False\n",
        "    # feat.append(filler)\n",
        "  feat.append({\n",
        "      \"id\": id,\n",
        "      \"label\": label,\n",
        "      \"start\": start,\n",
        "      \"stop\": stop,\n",
        "      \"length\": length,\n",
        "      \"seq\": seq\n",
        "  })\n",
        "  prev_stop = stop"
      ],
      "metadata": {
        "id": "yMAcEzNNMzgG"
      },
      "execution_count": 5,
      "outputs": []
    },
    {
      "cell_type": "code",
      "source": [],
      "metadata": {
        "id": "CX2lCthTj2Gh"
      },
      "execution_count": 5,
      "outputs": []
    },
    {
      "cell_type": "code",
      "source": [
        "from seqspec.Region import Region"
      ],
      "metadata": {
        "id": "4D3qmrvXX7xA"
      },
      "execution_count": 6,
      "outputs": []
    },
    {
      "cell_type": "code",
      "source": [
        "ex = [\n",
        "    {\"id\": \"A\", \"start\": 0, \"stop\": 100, \"length\": 100},\n",
        "    {\"id\": \"B\", \"start\": 0, \"stop\": 25, \"length\": 25},\n",
        "    {\"id\": \"C\", \"start\": 10, \"stop\": 15, \"length\": 5},\n",
        "    {\"id\": \"D\", \"start\": 50, \"stop\": 75, \"length\": 25},\n",
        "    {\"id\": \"E\", \"start\": 75, \"stop\": 85, \"length\": 10},\n",
        "    {\"id\": \"F\", \"start\": 90, \"stop\": 100, \"length\": 10}\n",
        "]\n",
        "df = pd.DataFrame(ex)"
      ],
      "metadata": {
        "id": "Fue6q_412gof"
      },
      "execution_count": 21,
      "outputs": []
    },
    {
      "cell_type": "code",
      "source": [],
      "metadata": {
        "id": "K5V2udpC3avq"
      },
      "execution_count": null,
      "outputs": []
    },
    {
      "cell_type": "code",
      "source": [
        "fig, ax = plt.subplots(figsize=(15,5))\n",
        "\n",
        "for idx, (label, start, stop, length) in enumerate(df.values):\n",
        "  y = idx % 5 + 1\n",
        "  if idx == 0:\n",
        "    y = 0\n",
        "  ax.plot([start, stop], [y, y], linewidth=3)\n",
        "  ax.scatter([start], [y], linewidth=2, marker=\"o\")\n",
        "  ax.scatter([stop], [y], linewidth=2, marker=\"o\")\n",
        "  ax.plot([start, start], [0, y], linewidth=1)\n",
        "  ax.plot([stop, stop], [0, y], linewidth=1)\n",
        "\n",
        "fig.show()"
      ],
      "metadata": {
        "id": "bw8nJy16FJi8",
        "outputId": "336abb5f-104f-4824-b17e-7a68c6874191",
        "colab": {
          "base_uri": "https://localhost:8080/",
          "height": 457
        }
      },
      "execution_count": 20,
      "outputs": [
        {
          "output_type": "display_data",
          "data": {
            "text/plain": [
              "<Figure size 1500x500 with 1 Axes>"
            ],
            "image/png": "[encoded data removed]"
          },
          "metadata": {
            "image/png": {
              "width": 1206,
              "height": 440
            }
          }
        }
      ]
    },
    {
      "cell_type": "code",
      "source": [
        "# gaps not filled\n",
        "gaps = [{\n",
        "    \"id\": \"A\",\n",
        "    \"start\": 0,\n",
        "    \"stop\": 100,\n",
        "    \"regions\": [\n",
        "        {\n",
        "            \"id\": \"B\",\n",
        "            \"start\": 0,\n",
        "            \"stop\": 25,\n",
        "            \"regions\": [\n",
        "                {\n",
        "                    \"id\": \"C\",\n",
        "                    \"start\": 10,\n",
        "                    \"stop\": 15\n",
        "                }\n",
        "            ]\n",
        "        },\n",
        "        {\n",
        "            \"id\": \"D\",\n",
        "            \"start\": 50,\n",
        "            \"stop\": 75\n",
        "        },\n",
        "        {\n",
        "            \"id\": \"E\",\n",
        "            \"start\": 75,\n",
        "            \"stop\": 85\n",
        "        },\n",
        "        {\n",
        "            \"id\": \"F\",\n",
        "            \"start\": 90,\n",
        "            \"stop\": 100\n",
        "        },\n",
        "    ]\n",
        "}]\n",
        "\n",
        "nogaps = [{\n",
        "    \"id\": \"A\",\n",
        "    \"start\": 0,\n",
        "    \"stop\": 100,\n",
        "    \"regions\": [\n",
        "        {\n",
        "            \"id\": \"B\",\n",
        "            \"start\": 0,\n",
        "            \"stop\": 25,\n",
        "            \"regions\": [\n",
        "                {\n",
        "                    \"id\": \"filler_BC\",\n",
        "                    \"start\": 0,\n",
        "                    \"stop\": 10\n",
        "                },\n",
        "                {\n",
        "                    \"id\": \"C\",\n",
        "                    \"start\": 10,\n",
        "                    \"stop\": 15\n",
        "                },\n",
        "                {\n",
        "                    \"id\": \"filler_CB\",\n",
        "                    \"start\": 15,\n",
        "                    \"stop\": 25\n",
        "                }\n",
        "            ]\n",
        "        },\n",
        "        {\n",
        "            \"id\": \"filler_BD\",\n",
        "            \"start\": 25,\n",
        "            \"stop\": 50\n",
        "        },\n",
        "        {\n",
        "            \"id\": \"D\",\n",
        "            \"start\": 50,\n",
        "            \"stop\": 75\n",
        "        },\n",
        "        {\n",
        "            \"id\": \"E\",\n",
        "            \"start\": 75,\n",
        "            \"stop\": 85\n",
        "        },\n",
        "        {\n",
        "           \"id\": \"filler_EF\",\n",
        "           \"start\": 85,\n",
        "           \"stop\": 90\n",
        "        },\n",
        "        {\n",
        "            \"id\": \"F\",\n",
        "            \"start\": 90,\n",
        "            \"stop\": 100\n",
        "        },\n",
        "    ]\n",
        "}]"
      ],
      "metadata": {
        "id": "1Rom1P2k4hil"
      },
      "execution_count": 26,
      "outputs": []
    },
    {
      "cell_type": "code",
      "source": [
        "{\n",
        "    \"id\": \"source\",\n",
        "    \"start\": 0,\n",
        "    \"stop\": 7203,\n",
        "    \"length\": 7203,\n",
        "    \"regions\": [\n",
        "        {\n",
        "            \"id\": \"repeat_region\",\n",
        "            \"start\": 0,\n",
        "            \"stop\": 141,\n",
        "            \"length\": 141,\n",
        "            \"regions\": [\n",
        "                {\n",
        "                    \"id\": \"repeat_region\",\n",
        "                    \"start\": 11,\n",
        "                    \"stop\": 141,\n",
        "                    \"length\": 130,\n",
        "                    \"regions\": []\n",
        "                }\n",
        "            ]\n",
        "        },\n",
        "        {\n",
        "            'id': 'filler_0',\n",
        "            'start': 141,\n",
        "            'stop': 155,\n",
        "            'length': 14,\n",
        "            'regions': []\n",
        "            },\n",
        "        {\n",
        "            'id': 'promoter',\n",
        "            'start': 155,\n",
        "            'stop': 396,\n",
        "            'length': 241,\n",
        "            'regions': []\n",
        "         }\n",
        "    ]\n",
        "}"
      ],
      "metadata": {
        "colab": {
          "base_uri": "https://localhost:8080/"
        },
        "id": "ItyDrRrzkdt0",
        "outputId": "0f8e1ca3-d39d-4b1b-b09d-6f70b4308b5d"
      },
      "execution_count": 9,
      "outputs": [
        {
          "output_type": "execute_result",
          "data": {
            "text/plain": [
              "{'id': 'source',\n",
              " 'start': 0,\n",
              " 'stop': 7203,\n",
              " 'length': 7203,\n",
              " 'regions': [{'id': 'repeat_region',\n",
              "   'start': 0,\n",
              "   'stop': 141,\n",
              "   'length': 141,\n",
              "   'regions': [{'id': 'repeat_region',\n",
              "     'start': 11,\n",
              "     'stop': 141,\n",
              "     'length': 130,\n",
              "     'regions': []}]},\n",
              "  {'id': 'filler_0', 'start': 141, 'stop': 155, 'length': 14, 'regions': []},\n",
              "  {'id': 'promoter', 'start': 155, 'stop': 396, 'length': 241, 'regions': []}]}"
            ]
          },
          "metadata": {},
          "execution_count": 9
        }
      ]
    },
    {
      "cell_type": "code",
      "source": [],
      "metadata": {
        "id": "7IbVr7asmYpM"
      },
      "execution_count": 9,
      "outputs": []
    },
    {
      "cell_type": "code",
      "source": [
        "def nest_intervals(intervals):\n",
        "    def nest(start_index, end_limit):\n",
        "        nested = []\n",
        "\n",
        "        i = start_index\n",
        "        while i < len(intervals) and intervals[i]['start'] < end_limit:\n",
        "            current_interval = intervals[i]\n",
        "            child, next_index = nest(i + 1, current_interval['stop'])\n",
        "            interval_obj = {\n",
        "                'id': current_interval['id'],\n",
        "                'start': current_interval['start'],\n",
        "                'stop': current_interval['stop'],\n",
        "                'length': current_interval['length'],\n",
        "                'regions': child\n",
        "            }\n",
        "            nested.append(interval_obj)\n",
        "            i = next_index\n",
        "\n",
        "        return nested, i\n",
        "\n",
        "    result, _ = nest(0, intervals[0]['stop'])\n",
        "    return result[0]\n",
        "\n",
        "# Example usage\n",
        "intervals = [\n",
        "    {'id': 'source', 'start': 0, 'stop': 7203, 'length': 7203},\n",
        "    {'id': 'repeat_region', 'start': 0, 'stop': 141, 'length': 141},\n",
        "    {'id': 'repeat_region', 'start': 11, 'stop': 141, 'length': 130},\n",
        "    {'id': 'filler_0', 'start': 141, 'stop': 155, 'length': 14},\n",
        "    {'id': 'promoter', 'start': 155, 'stop': 396, 'length': 241}\n",
        "]\n",
        "\n",
        "nested_json = nest_intervals(ex)\n",
        "print(json.dumps(nested_json, indent=4))\n"
      ],
      "metadata": {
        "colab": {
          "base_uri": "https://localhost:8080/"
        },
        "id": "JStAGXyxlCra",
        "outputId": "63051d7d-0468-4af6-b143-ea045ef40358"
      },
      "execution_count": 29,
      "outputs": [
        {
          "output_type": "stream",
          "name": "stdout",
          "text": [
            "{\n",
            "    \"id\": \"A\",\n",
            "    \"start\": 0,\n",
            "    \"stop\": 100,\n",
            "    \"length\": 100,\n",
            "    \"regions\": [\n",
            "        {\n",
            "            \"id\": \"B\",\n",
            "            \"start\": 0,\n",
            "            \"stop\": 25,\n",
            "            \"length\": 25,\n",
            "            \"regions\": [\n",
            "                {\n",
            "                    \"id\": \"C\",\n",
            "                    \"start\": 10,\n",
            "                    \"stop\": 15,\n",
            "                    \"length\": 5,\n",
            "                    \"regions\": []\n",
            "                }\n",
            "            ]\n",
            "        },\n",
            "        {\n",
            "            \"id\": \"D\",\n",
            "            \"start\": 50,\n",
            "            \"stop\": 75,\n",
            "            \"length\": 25,\n",
            "            \"regions\": []\n",
            "        },\n",
            "        {\n",
            "            \"id\": \"E\",\n",
            "            \"start\": 75,\n",
            "            \"stop\": 85,\n",
            "            \"length\": 10,\n",
            "            \"regions\": []\n",
            "        },\n",
            "        {\n",
            "            \"id\": \"F\",\n",
            "            \"start\": 90,\n",
            "            \"stop\": 100,\n",
            "            \"length\": 10,\n",
            "            \"regions\": []\n",
            "        }\n",
            "    ]\n",
            "}\n"
          ]
        }
      ]
    },
    {
      "cell_type": "code",
      "source": [
        "# iterate for every element at each level, check the stop of the last dude relative to the start/stop of the parent as well as the distance\n",
        "# to the next element in the list\n",
        "# three checks\n",
        "# 1. interval start > start of parent\n",
        "# 2. interval stop < stop of parent\n",
        "# 3. interval stop of i is < interval start of i + 1 (at the same level)"
      ],
      "metadata": {
        "id": "aonC_ws3751H"
      },
      "execution_count": null,
      "outputs": []
    },
    {
      "cell_type": "code",
      "source": [
        "gaps"
      ],
      "metadata": {
        "colab": {
          "base_uri": "https://localhost:8080/"
        },
        "id": "h9a02vSj86GS",
        "outputId": "c676449d-566f-44db-be70-b18c2ce9cf30"
      },
      "execution_count": 33,
      "outputs": [
        {
          "output_type": "execute_result",
          "data": {
            "text/plain": [
              "[{'id': 'A',\n",
              "  'start': 0,\n",
              "  'stop': 100,\n",
              "  'regions': [{'id': 'B',\n",
              "    'start': 0,\n",
              "    'stop': 25,\n",
              "    'regions': [{'id': 'C', 'start': 10, 'stop': 15}]},\n",
              "   {'id': 'D', 'start': 50, 'stop': 75},\n",
              "   {'id': 'E', 'start': 75, 'stop': 85},\n",
              "   {'id': 'F', 'start': 90, 'stop': 100}]}]"
            ]
          },
          "metadata": {},
          "execution_count": 33
        }
      ]
    },
    {
      "cell_type": "code",
      "source": [
        "def fill_gaps(regions, parent_start = 0, parent_stop = 0):\n",
        "  if len(regions) == 0:\n",
        "    return regions\n",
        "\n",
        "  prev = regions[0]\n",
        "  e = prev\n",
        "  if prev[\"start\"] > parent_start:\n",
        "    # add filler to start of regions\n",
        "    regions = [{\n",
        "        \"id\": \"filler\",\n",
        "        \"start\": parent_start,\n",
        "        \"stop\": prev[\"start\"]\n",
        "    }] + prev[\"regions\"]\n",
        "\n",
        "  for idx, e in enumerate(regions[1:]):\n",
        "    if prev[\"stop\"] < e[\"start\"]:\n",
        "      # insert filler between\n",
        "      regions[:regions.index(prev)] + {\n",
        "          \"id\": \"filler\",\n",
        "          \"start\": prev[\"stop\"],\n",
        "          \"stop\": e[\"start\"]\n",
        "      } + regions[:regions.index(e)]\n",
        "\n",
        "    prev = e\n",
        "\n",
        "    if len(e[\"regions\"]) > 0:\n",
        "      e[\"regions\"] = fill_gaps(e[\"regions\"], e[\"start\"], e[\"stop\"])\n",
        "\n",
        "  if e[\"stop\"] < parent_stop:\n",
        "    # add to end of regions\n",
        "    regions.append({\n",
        "        \"id\": \"filler\",\n",
        "        \"start\": e[\"stop\"],\n",
        "        \"stop\": parent_stop\n",
        "    })\n",
        "  return regions"
      ],
      "metadata": {
        "id": "yA8e9-7n7dqe"
      },
      "execution_count": 43,
      "outputs": []
    },
    {
      "cell_type": "code",
      "source": [
        "fill_gaps(gaps)"
      ],
      "metadata": {
        "colab": {
          "base_uri": "https://localhost:8080/"
        },
        "id": "yJJicbaX7wyf",
        "outputId": "78cae183-cb4c-4cd3-938e-ac9bed776b73"
      },
      "execution_count": 44,
      "outputs": [
        {
          "output_type": "execute_result",
          "data": {
            "text/plain": [
              "[{'id': 'A',\n",
              "  'start': 0,\n",
              "  'stop': 100,\n",
              "  'regions': [{'id': 'B',\n",
              "    'start': 0,\n",
              "    'stop': 25,\n",
              "    'regions': [{'id': 'C', 'start': 10, 'stop': 15}]},\n",
              "   {'id': 'D', 'start': 50, 'stop': 75},\n",
              "   {'id': 'E', 'start': 75, 'stop': 85},\n",
              "   {'id': 'F', 'start': 90, 'stop': 100}]}]"
            ]
          },
          "metadata": {},
          "execution_count": 44
        }
      ]
    },
    {
      "cell_type": "code",
      "source": [
        "nogaps"
      ],
      "metadata": {
        "colab": {
          "base_uri": "https://localhost:8080/"
        },
        "id": "Lti5l9QHAY2A",
        "outputId": "37401c8b-bba9-4df4-f087-f53a8fc47b8a"
      },
      "execution_count": 45,
      "outputs": [
        {
          "output_type": "execute_result",
          "data": {
            "text/plain": [
              "[{'id': 'A',\n",
              "  'start': 0,\n",
              "  'stop': 100,\n",
              "  'regions': [{'id': 'B',\n",
              "    'start': 0,\n",
              "    'stop': 25,\n",
              "    'regions': [{'id': 'filler_BC', 'start': 0, 'stop': 10},\n",
              "     {'id': 'C', 'start': 10, 'stop': 15},\n",
              "     {'id': 'filler_CB', 'start': 15, 'stop': 25}]},\n",
              "   {'id': 'filler_BD', 'start': 25, 'stop': 50},\n",
              "   {'id': 'D', 'start': 50, 'stop': 75},\n",
              "   {'id': 'E', 'start': 75, 'stop': 85},\n",
              "   {'id': 'filler_EF', 'start': 85, 'stop': 90},\n",
              "   {'id': 'F', 'start': 90, 'stop': 100}]}]"
            ]
          },
          "metadata": {},
          "execution_count": 45
        }
      ]
    },
    {
      "cell_type": "code",
      "source": [
        "def fill_gaps(regions, parent_start=0, parent_stop=0):\n",
        "    if len(regions) == 0:\n",
        "        return []\n",
        "\n",
        "    # Insert a filler at the start if necessary\n",
        "    if regions[0]['start'] > parent_start:\n",
        "        regions.insert(0, {\n",
        "            'id': 'filler_start',\n",
        "            'start': parent_start,\n",
        "            'stop': regions[0]['start']\n",
        "        })\n",
        "\n",
        "    new_regions = []\n",
        "    for i, region in enumerate(regions):\n",
        "        # Append the current region\n",
        "        new_regions.append(region)\n",
        "\n",
        "        # Recursive call for nested regions\n",
        "        if 'regions' in region:\n",
        "            region['regions'] = fill_gaps(region['regions'], region['start'], region['stop'])\n",
        "\n",
        "        # Check for gap and insert a filler\n",
        "        if i < len(regions) - 1 and region['stop'] < regions[i+1]['start']:\n",
        "            filler_id = f'filler_{region[\"id\"]}_{regions[i+1][\"id\"]}'\n",
        "            new_regions.append({\n",
        "                'id': filler_id,\n",
        "                'start': region['stop'],\n",
        "                'stop': regions[i+1]['start']\n",
        "            })\n",
        "\n",
        "    # Insert a filler at the end if necessary\n",
        "    if new_regions[-1]['stop'] < parent_stop:\n",
        "        new_regions.append({\n",
        "            'id': 'filler_end',\n",
        "            'start': new_regions[-1]['stop'],\n",
        "            'stop': parent_stop\n",
        "        })\n",
        "\n",
        "    return new_regions\n",
        "\n",
        "# Example usage\n",
        "filled_regions = fill_gaps(gaps)\n"
      ],
      "metadata": {
        "id": "7MzP1hzYDiUj"
      },
      "execution_count": 47,
      "outputs": []
    },
    {
      "cell_type": "code",
      "source": [
        "filled_regions"
      ],
      "metadata": {
        "colab": {
          "base_uri": "https://localhost:8080/"
        },
        "id": "94mXCoOGELC6",
        "outputId": "afc3de76-ab33-4f03-d074-7a8b3b59b03d"
      },
      "execution_count": 48,
      "outputs": [
        {
          "output_type": "execute_result",
          "data": {
            "text/plain": [
              "[{'id': 'A',\n",
              "  'start': 0,\n",
              "  'stop': 100,\n",
              "  'regions': [{'id': 'B',\n",
              "    'start': 0,\n",
              "    'stop': 25,\n",
              "    'regions': [{'id': 'filler_start', 'start': 0, 'stop': 10},\n",
              "     {'id': 'C', 'start': 10, 'stop': 15},\n",
              "     {'id': 'filler_end', 'start': 15, 'stop': 25}]},\n",
              "   {'id': 'filler_B_D', 'start': 25, 'stop': 50},\n",
              "   {'id': 'D', 'start': 50, 'stop': 75},\n",
              "   {'id': 'E', 'start': 75, 'stop': 85},\n",
              "   {'id': 'filler_E_F', 'start': 85, 'stop': 90},\n",
              "   {'id': 'F', 'start': 90, 'stop': 100}]}]"
            ]
          },
          "metadata": {},
          "execution_count": 48
        }
      ]
    },
    {
      "cell_type": "code",
      "source": [],
      "metadata": {
        "id": "FG_eq8KPEOI8"
      },
      "execution_count": null,
      "outputs": []
    }
  ]
}