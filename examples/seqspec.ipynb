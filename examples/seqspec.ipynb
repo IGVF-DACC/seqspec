{
  "nbformat": 4,
  "nbformat_minor": 0,
  "metadata": {
    "colab": {
      "provenance": [],
      "authorship_tag": "ABX9TyOGLzoPmpjBCW+Yx8pk0hmV",
      "include_colab_link": true
    },
    "kernelspec": {
      "name": "python3",
      "display_name": "Python 3"
    },
    "language_info": {
      "name": "python"
    }
  },
  "cells": [
    {
      "cell_type": "markdown",
      "metadata": {
        "id": "view-in-github",
        "colab_type": "text"
      },
      "source": [
        "<a href=\"https://colab.research.google.com/github/IGVF/seqspec/blob/main/examples/seqspec.ipynb\" target=\"_parent\"><img src=\"https://colab.research.google.com/assets/colab-badge.svg\" alt=\"Open In Colab\"/></a>"
      ]
    },
    {
      "cell_type": "code",
      "execution_count": 1,
      "metadata": {
        "id": "JGcRslgqu2Jj"
      },
      "outputs": [],
      "source": [
        "!git clone --quiet https://github.com/igvf/seqspec"
      ]
    },
    {
      "cell_type": "code",
      "source": [
        "!cd seqspec && pip --quiet install ."
      ],
      "metadata": {
        "colab": {
          "base_uri": "https://localhost:8080/"
        },
        "id": "jY8yniPEu7X8",
        "outputId": "a1f4aa91-69a0-4109-993b-566d33d5243b"
      },
      "execution_count": 2,
      "outputs": [
        {
          "output_type": "stream",
          "name": "stdout",
          "text": [
            "\u001b[33m  DEPRECATION: A future pip version will change local packages to be built in-place without first copying to a temporary directory. We recommend you use --use-feature=in-tree-build to test your packages with this new behavior before it becomes the default.\n",
            "   pip 21.3 will remove support for this functionality. You can find discussion regarding this at https://github.com/pypa/pip/issues/7555.\u001b[0m\n",
            "  Building wheel for seqspec (setup.py) ... \u001b[?25l\u001b[?25hdone\n"
          ]
        }
      ]
    },
    {
      "cell_type": "code",
      "source": [
        "!seqspec"
      ],
      "metadata": {
        "colab": {
          "base_uri": "https://localhost:8080/"
        },
        "id": "TgqvF0qovoxZ",
        "outputId": "7a36938e-5095-44f6-a32a-e7836cf6e68b"
      },
      "execution_count": 3,
      "outputs": [
        {
          "output_type": "stream",
          "name": "stdout",
          "text": [
            "usage: seqspec [-h] <CMD> ...\n",
            "\n",
            "seqspec 0.0.0: Format sequence specification files\n",
            "\n",
            "positional arguments:\n",
            "  <CMD>\n",
            "    check     validate seqspec file\n",
            "    format    format seqspec file\n",
            "    print     print seqspec file\n",
            "\n",
            "optional arguments:\n",
            "  -h, --help  show this help message and exit\n"
          ]
        }
      ]
    },
    {
      "cell_type": "code",
      "source": [
        "!head seqspec/assays/10x-RNA-v2/spec.yaml"
      ],
      "metadata": {
        "colab": {
          "base_uri": "https://localhost:8080/"
        },
        "id": "aGY-aZPsvpQF",
        "outputId": "aed8e6f3-2883-4e33-c4c7-2239ac6d910c"
      },
      "execution_count": 4,
      "outputs": [
        {
          "output_type": "stream",
          "name": "stdout",
          "text": [
            "!Assay\n",
            "name: 10x-RNA-v2\n",
            "doi: https://doi.org/10.1038/ncomms14049\n",
            "description: The 10x Genomics Chromium Single Cell 3' Solution V2 chemistry\n",
            "modalities:\n",
            "- RNA\n",
            "lib_struct: https://teichlab.github.io/scg_lib_structs/methods_html/10xChromium3.html\n",
            "assay_spec:\n",
            "  - !Region\n",
            "    region_id: RNA\n"
          ]
        }
      ]
    },
    {
      "cell_type": "code",
      "source": [
        "!seqspec print /content/seqspec/assays/10x-RNA-v2/spec.yaml"
      ],
      "metadata": {
        "colab": {
          "base_uri": "https://localhost:8080/"
        },
        "id": "W3dFyJyAvzvx",
        "outputId": "751a84f2-e6b8-4452-d1f7-fcf9a814a4b8"
      },
      "execution_count": 5,
      "outputs": [
        {
          "output_type": "stream",
          "name": "stdout",
          "text": [
            "# 10x-RNA-v2\n",
            "- DOI: [https://doi.org/10.1038/ncomms14049](https://doi.org/10.1038/ncomms14049)\n",
            "- Description: The 10x Genomics Chromium Single Cell 3' Solution V2 chemistry\n",
            "- Modalities: RNA\n",
            "    \n",
            "## Final Library\n",
            "###### RNA\n",
            "<pre style=\"overflow-x: auto; text-align: left; background-color: #f6f8fa\">AATGATACGGCGACCACCGAGATCTACACTCTTTCCCTACACGACGCTCTTCCGATCTNNNNNNNNNNNNNNNNNNNNNNNNNNXXAGATCGGAAGAGCACACGTCTGAACTCCAGTCACNNNNNNNNATCTCGTATGCCGTCTTCTGCTTG</pre>\n",
            "1. <details><summary>Illumina P5</summary>\n",
            "\n",
            "   - sequence_type: fixed\n",
            "   - sequence: <pre style=\"overflow-x: auto; text-align: left; margin: 0; display: inline;\">AATGATACGGCGACCACCGAGATCTACAC</pre>\n",
            "   - min_len: 29\n",
            "   - max_len: 29\n",
            "   - onlist: None\n",
            "   </details>\n",
            "2. <details><summary>Truseq Read 1</summary>\n",
            "\n",
            "   - sequence_type: fixed\n",
            "   - sequence: <pre style=\"overflow-x: auto; text-align: left; margin: 0; display: inline;\">TCTTTCCCTACACGACGCTCTTCCGATCT</pre>\n",
            "   - min_len: 10\n",
            "   - max_len: 10\n",
            "   - onlist: None\n",
            "   </details>\n",
            "3. <details><summary>Cell Barcode</summary>\n",
            "\n",
            "   - sequence_type: onlist\n",
            "   - sequence: <pre style=\"overflow-x: auto; text-align: left; margin: 0; display: inline;\">NNNNNNNNNNNNNNNN</pre>\n",
            "   - min_len: 16\n",
            "   - max_len: 16\n",
            "   - onlist: {'filename': '737K-august-2016.txt.gz', 'md5': None}\n",
            "   </details>\n",
            "4. <details><summary>UMI</summary>\n",
            "\n",
            "   - sequence_type: random\n",
            "   - sequence: <pre style=\"overflow-x: auto; text-align: left; margin: 0; display: inline;\">NNNNNNNNNN</pre>\n",
            "   - min_len: 10\n",
            "   - max_len: 10\n",
            "   - onlist: None\n",
            "   </details>\n",
            "5. <details><summary>Poly-T</summary>\n",
            "\n",
            "   - sequence_type: random\n",
            "   - sequence: <pre style=\"overflow-x: auto; text-align: left; margin: 0; display: inline;\">X</pre>\n",
            "   - min_len: 1\n",
            "   - max_len: 98\n",
            "   - onlist: None\n",
            "   </details>\n",
            "6. <details><summary>cDNA</summary>\n",
            "\n",
            "   - sequence_type: random\n",
            "   - sequence: <pre style=\"overflow-x: auto; text-align: left; margin: 0; display: inline;\">X</pre>\n",
            "   - min_len: 1\n",
            "   - max_len: 98\n",
            "   - onlist: None\n",
            "   </details>\n",
            "7. <details><summary>Truseq Read 2</summary>\n",
            "\n",
            "   - sequence_type: fixed\n",
            "   - sequence: <pre style=\"overflow-x: auto; text-align: left; margin: 0; display: inline;\">AGATCGGAAGAGCACACGTCTGAACTCCAGTCAC</pre>\n",
            "   - min_len: 34\n",
            "   - max_len: 34\n",
            "   - onlist: None\n",
            "   </details>\n",
            "8. <details><summary>Truseq Read 2</summary>\n",
            "\n",
            "   - sequence_type: onlist\n",
            "   - sequence: <pre style=\"overflow-x: auto; text-align: left; margin: 0; display: inline;\">NNNNNNNN</pre>\n",
            "   - min_len: 8\n",
            "   - max_len: 8\n",
            "   - onlist: {'filename': 'sample_bc_onlist.txt', 'md5': None}\n",
            "   </details>\n",
            "9. <details><summary>Illumina P7</summary>\n",
            "\n",
            "   - sequence_type: fixed\n",
            "   - sequence: <pre style=\"overflow-x: auto; text-align: left; margin: 0; display: inline;\">ATCTCGTATGCCGTCTTCTGCTTG</pre>\n",
            "   - min_len: 24\n",
            "   - max_len: 24\n",
            "   - onlist: None\n",
            "   </details>\n"
          ]
        }
      ]
    },
    {
      "cell_type": "code",
      "source": [
        "!seqspec check /content/seqspec/assays/10x-RNA-v2/spec.yaml"
      ],
      "metadata": {
        "id": "EqMqtB_uv2OL",
        "outputId": "e139f092-fced-4563-9c49-de413f84ba57",
        "colab": {
          "base_uri": "https://localhost:8080/"
        }
      },
      "execution_count": 6,
      "outputs": [
        {
          "output_type": "stream",
          "name": "stdout",
          "text": [
            "[error 1] None is not of type 'string' in spec['assay_spec'][0]['join']['regions'][2]['onlist']['md5']\n",
            "[error 2] None is not of type 'string' in spec['assay_spec'][0]['join']['regions'][7]['onlist']['md5']\n"
          ]
        }
      ]
    },
    {
      "cell_type": "code",
      "source": [],
      "metadata": {
        "id": "NuT_prmr5zmw"
      },
      "execution_count": null,
      "outputs": []
    }
  ]
}